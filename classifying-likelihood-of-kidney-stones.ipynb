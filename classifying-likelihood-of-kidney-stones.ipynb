{
 "cells": [
  {
   "cell_type": "code",
   "execution_count": 1,
   "id": "49be66c7",
   "metadata": {
    "_cell_guid": "b1076dfc-b9ad-4769-8c92-a6c4dae69d19",
    "_uuid": "8f2839f25d086af736a60e9eeb907d3b93b6e0e5",
    "execution": {
     "iopub.execute_input": "2023-06-18T18:50:19.175282Z",
     "iopub.status.busy": "2023-06-18T18:50:19.174903Z",
     "iopub.status.idle": "2023-06-18T18:50:19.186700Z",
     "shell.execute_reply": "2023-06-18T18:50:19.185814Z"
    },
    "papermill": {
     "duration": 0.021322,
     "end_time": "2023-06-18T18:50:19.188710",
     "exception": false,
     "start_time": "2023-06-18T18:50:19.167388",
     "status": "completed"
    },
    "tags": []
   },
   "outputs": [
    {
     "name": "stdout",
     "output_type": "stream",
     "text": [
      "/kaggle/input/playground-series-s3e12/sample_submission.csv\n",
      "/kaggle/input/playground-series-s3e12/train.csv\n",
      "/kaggle/input/playground-series-s3e12/test.csv\n"
     ]
    }
   ],
   "source": [
    "import numpy as np # linear algebra\n",
    "import pandas as pd # data processing, CSV file I/O (e.g. pd.read_csv)\n",
    "import os\n",
    "for dirname, _, filenames in os.walk('/kaggle/input'):\n",
    "    for filename in filenames:\n",
    "        print(os.path.join(dirname, filename))\n"
   ]
  },
  {
   "cell_type": "code",
   "execution_count": 2,
   "id": "54219907",
   "metadata": {
    "execution": {
     "iopub.execute_input": "2023-06-18T18:50:19.200055Z",
     "iopub.status.busy": "2023-06-18T18:50:19.199330Z",
     "iopub.status.idle": "2023-06-18T18:50:21.129403Z",
     "shell.execute_reply": "2023-06-18T18:50:21.128713Z"
    },
    "papermill": {
     "duration": 1.938047,
     "end_time": "2023-06-18T18:50:21.131552",
     "exception": false,
     "start_time": "2023-06-18T18:50:19.193505",
     "status": "completed"
    },
    "tags": []
   },
   "outputs": [],
   "source": [
    "import numpy as np \n",
    "import pandas as pd\n",
    "import seaborn as sns\n",
    "import matplotlib.pyplot as plt\n",
    "from sklearn.model_selection import train_test_split, GridSearchCV\n",
    "from xgboost import XGBRegressor\n",
    "from sklearn.metrics import r2_score, mean_absolute_error, mean_squared_error"
   ]
  },
  {
   "cell_type": "code",
   "execution_count": 3,
   "id": "75a8474c",
   "metadata": {
    "execution": {
     "iopub.execute_input": "2023-06-18T18:50:21.142448Z",
     "iopub.status.busy": "2023-06-18T18:50:21.142083Z",
     "iopub.status.idle": "2023-06-18T18:50:21.194004Z",
     "shell.execute_reply": "2023-06-18T18:50:21.192700Z"
    },
    "papermill": {
     "duration": 0.059822,
     "end_time": "2023-06-18T18:50:21.196140",
     "exception": false,
     "start_time": "2023-06-18T18:50:21.136318",
     "status": "completed"
    },
    "tags": []
   },
   "outputs": [
    {
     "data": {
      "text/html": [
       "<div>\n",
       "<style scoped>\n",
       "    .dataframe tbody tr th:only-of-type {\n",
       "        vertical-align: middle;\n",
       "    }\n",
       "\n",
       "    .dataframe tbody tr th {\n",
       "        vertical-align: top;\n",
       "    }\n",
       "\n",
       "    .dataframe thead th {\n",
       "        text-align: right;\n",
       "    }\n",
       "</style>\n",
       "<table border=\"1\" class=\"dataframe\">\n",
       "  <thead>\n",
       "    <tr style=\"text-align: right;\">\n",
       "      <th></th>\n",
       "      <th>id</th>\n",
       "      <th>gravity</th>\n",
       "      <th>ph</th>\n",
       "      <th>osmo</th>\n",
       "      <th>cond</th>\n",
       "      <th>urea</th>\n",
       "      <th>calc</th>\n",
       "      <th>target</th>\n",
       "    </tr>\n",
       "  </thead>\n",
       "  <tbody>\n",
       "    <tr>\n",
       "      <th>0</th>\n",
       "      <td>0</td>\n",
       "      <td>1.013</td>\n",
       "      <td>6.19</td>\n",
       "      <td>443</td>\n",
       "      <td>14.8</td>\n",
       "      <td>124</td>\n",
       "      <td>1.45</td>\n",
       "      <td>0</td>\n",
       "    </tr>\n",
       "    <tr>\n",
       "      <th>1</th>\n",
       "      <td>1</td>\n",
       "      <td>1.025</td>\n",
       "      <td>5.40</td>\n",
       "      <td>703</td>\n",
       "      <td>23.6</td>\n",
       "      <td>394</td>\n",
       "      <td>4.18</td>\n",
       "      <td>0</td>\n",
       "    </tr>\n",
       "    <tr>\n",
       "      <th>2</th>\n",
       "      <td>2</td>\n",
       "      <td>1.009</td>\n",
       "      <td>6.13</td>\n",
       "      <td>371</td>\n",
       "      <td>24.5</td>\n",
       "      <td>159</td>\n",
       "      <td>9.04</td>\n",
       "      <td>0</td>\n",
       "    </tr>\n",
       "    <tr>\n",
       "      <th>3</th>\n",
       "      <td>3</td>\n",
       "      <td>1.021</td>\n",
       "      <td>4.91</td>\n",
       "      <td>442</td>\n",
       "      <td>20.8</td>\n",
       "      <td>398</td>\n",
       "      <td>6.63</td>\n",
       "      <td>1</td>\n",
       "    </tr>\n",
       "    <tr>\n",
       "      <th>4</th>\n",
       "      <td>4</td>\n",
       "      <td>1.021</td>\n",
       "      <td>5.53</td>\n",
       "      <td>874</td>\n",
       "      <td>17.8</td>\n",
       "      <td>385</td>\n",
       "      <td>2.21</td>\n",
       "      <td>1</td>\n",
       "    </tr>\n",
       "  </tbody>\n",
       "</table>\n",
       "</div>"
      ],
      "text/plain": [
       "   id  gravity    ph  osmo  cond  urea  calc  target\n",
       "0   0    1.013  6.19   443  14.8   124  1.45       0\n",
       "1   1    1.025  5.40   703  23.6   394  4.18       0\n",
       "2   2    1.009  6.13   371  24.5   159  9.04       0\n",
       "3   3    1.021  4.91   442  20.8   398  6.63       1\n",
       "4   4    1.021  5.53   874  17.8   385  2.21       1"
      ]
     },
     "execution_count": 3,
     "metadata": {},
     "output_type": "execute_result"
    }
   ],
   "source": [
    "df = pd.read_csv(\"/kaggle/input/playground-series-s3e12/train.csv\")\n",
    "df.head()"
   ]
  },
  {
   "cell_type": "code",
   "execution_count": 4,
   "id": "2915ddb6",
   "metadata": {
    "execution": {
     "iopub.execute_input": "2023-06-18T18:50:21.207917Z",
     "iopub.status.busy": "2023-06-18T18:50:21.207523Z",
     "iopub.status.idle": "2023-06-18T18:50:21.250308Z",
     "shell.execute_reply": "2023-06-18T18:50:21.249443Z"
    },
    "papermill": {
     "duration": 0.051062,
     "end_time": "2023-06-18T18:50:21.252317",
     "exception": false,
     "start_time": "2023-06-18T18:50:21.201255",
     "status": "completed"
    },
    "tags": []
   },
   "outputs": [
    {
     "name": "stdout",
     "output_type": "stream",
     "text": [
      "data shape: (414, 8)\n"
     ]
    },
    {
     "data": {
      "text/html": [
       "<div>\n",
       "<style scoped>\n",
       "    .dataframe tbody tr th:only-of-type {\n",
       "        vertical-align: middle;\n",
       "    }\n",
       "\n",
       "    .dataframe tbody tr th {\n",
       "        vertical-align: top;\n",
       "    }\n",
       "\n",
       "    .dataframe thead th {\n",
       "        text-align: right;\n",
       "    }\n",
       "</style>\n",
       "<table border=\"1\" class=\"dataframe\">\n",
       "  <thead>\n",
       "    <tr style=\"text-align: right;\">\n",
       "      <th></th>\n",
       "      <th>data type</th>\n",
       "      <th>#missing</th>\n",
       "      <th>%missing</th>\n",
       "      <th>#unique</th>\n",
       "      <th>min</th>\n",
       "      <th>max</th>\n",
       "    </tr>\n",
       "  </thead>\n",
       "  <tbody>\n",
       "    <tr>\n",
       "      <th>id</th>\n",
       "      <td>int64</td>\n",
       "      <td>0</td>\n",
       "      <td>0.0</td>\n",
       "      <td>414</td>\n",
       "      <td>0.000</td>\n",
       "      <td>413.00</td>\n",
       "    </tr>\n",
       "    <tr>\n",
       "      <th>gravity</th>\n",
       "      <td>float64</td>\n",
       "      <td>0</td>\n",
       "      <td>0.0</td>\n",
       "      <td>28</td>\n",
       "      <td>1.005</td>\n",
       "      <td>1.04</td>\n",
       "    </tr>\n",
       "    <tr>\n",
       "      <th>ph</th>\n",
       "      <td>float64</td>\n",
       "      <td>0</td>\n",
       "      <td>0.0</td>\n",
       "      <td>71</td>\n",
       "      <td>4.760</td>\n",
       "      <td>7.94</td>\n",
       "    </tr>\n",
       "    <tr>\n",
       "      <th>osmo</th>\n",
       "      <td>int64</td>\n",
       "      <td>0</td>\n",
       "      <td>0.0</td>\n",
       "      <td>80</td>\n",
       "      <td>187.000</td>\n",
       "      <td>1236.00</td>\n",
       "    </tr>\n",
       "    <tr>\n",
       "      <th>cond</th>\n",
       "      <td>float64</td>\n",
       "      <td>0</td>\n",
       "      <td>0.0</td>\n",
       "      <td>65</td>\n",
       "      <td>5.100</td>\n",
       "      <td>38.00</td>\n",
       "    </tr>\n",
       "    <tr>\n",
       "      <th>urea</th>\n",
       "      <td>int64</td>\n",
       "      <td>0</td>\n",
       "      <td>0.0</td>\n",
       "      <td>73</td>\n",
       "      <td>10.000</td>\n",
       "      <td>620.00</td>\n",
       "    </tr>\n",
       "    <tr>\n",
       "      <th>calc</th>\n",
       "      <td>float64</td>\n",
       "      <td>0</td>\n",
       "      <td>0.0</td>\n",
       "      <td>85</td>\n",
       "      <td>0.170</td>\n",
       "      <td>14.34</td>\n",
       "    </tr>\n",
       "    <tr>\n",
       "      <th>target</th>\n",
       "      <td>int64</td>\n",
       "      <td>0</td>\n",
       "      <td>0.0</td>\n",
       "      <td>2</td>\n",
       "      <td>0.000</td>\n",
       "      <td>1.00</td>\n",
       "    </tr>\n",
       "  </tbody>\n",
       "</table>\n",
       "</div>"
      ],
      "text/plain": [
       "        data type  #missing  %missing  #unique      min      max\n",
       "id          int64         0       0.0      414    0.000   413.00\n",
       "gravity   float64         0       0.0       28    1.005     1.04\n",
       "ph        float64         0       0.0       71    4.760     7.94\n",
       "osmo        int64         0       0.0       80  187.000  1236.00\n",
       "cond      float64         0       0.0       65    5.100    38.00\n",
       "urea        int64         0       0.0       73   10.000   620.00\n",
       "calc      float64         0       0.0       85    0.170    14.34\n",
       "target      int64         0       0.0        2    0.000     1.00"
      ]
     },
     "execution_count": 4,
     "metadata": {},
     "output_type": "execute_result"
    }
   ],
   "source": [
    "# summary table function copied from https://www.kaggle.com/code/kimtaehun/simple-eda-and-baseline-in-2mintues\n",
    "\n",
    "def summary(df):\n",
    "    print(f'data shape: {df.shape}')\n",
    "    summ = pd.DataFrame(df.dtypes, columns=['data type'])\n",
    "    summ['#missing'] = df.isnull().sum().values \n",
    "    summ['%missing'] = df.isnull().sum().values / len(df)* 100\n",
    "    summ['#unique'] = df.nunique().values\n",
    "    desc = pd.DataFrame(df.describe(include='all').transpose())\n",
    "    summ['min'] = desc['min'].values\n",
    "    summ['max'] = desc['max'].values\n",
    "    \n",
    "    return summ\n",
    "\n",
    "summary(df)"
   ]
  },
  {
   "cell_type": "code",
   "execution_count": 5,
   "id": "fa8112ad",
   "metadata": {
    "execution": {
     "iopub.execute_input": "2023-06-18T18:50:21.266760Z",
     "iopub.status.busy": "2023-06-18T18:50:21.266313Z",
     "iopub.status.idle": "2023-06-18T18:50:21.611408Z",
     "shell.execute_reply": "2023-06-18T18:50:21.610203Z"
    },
    "papermill": {
     "duration": 0.355981,
     "end_time": "2023-06-18T18:50:21.613479",
     "exception": false,
     "start_time": "2023-06-18T18:50:21.257498",
     "status": "completed"
    },
    "tags": []
   },
   "outputs": [
    {
     "data": {
      "text/plain": [
       "<Axes: >"
      ]
     },
     "execution_count": 5,
     "metadata": {},
     "output_type": "execute_result"
    },
    {
     "data": {
      "image/png": "[encoded data removed]",
      "text/plain": [
       "<Figure size 640x480 with 2 Axes>"
      ]
     },
     "metadata": {},
     "output_type": "display_data"
    }
   ],
   "source": [
    "corr= df.drop('id',axis=1).corr()\n",
    "\n",
    "# Getting the Upper Triangle of the co-relation matrix\n",
    "matrix = np.triu(corr)\n",
    "\n",
    "# using the upper triangle matrix as mask \n",
    "sns.heatmap(corr, annot=True, mask=matrix)"
   ]
  },
  {
   "cell_type": "code",
   "execution_count": null,
   "id": "c018a77d",
   "metadata": {
    "execution": {
     "iopub.execute_input": "2023-06-18T18:33:06.410627Z",
     "iopub.status.busy": "2023-06-18T18:33:06.409964Z",
     "iopub.status.idle": "2023-06-18T18:33:06.417323Z",
     "shell.execute_reply": "2023-06-18T18:33:06.416050Z",
     "shell.execute_reply.started": "2023-06-18T18:33:06.410596Z"
    },
    "papermill": {
     "duration": 0.005373,
     "end_time": "2023-06-18T18:50:21.624768",
     "exception": false,
     "start_time": "2023-06-18T18:50:21.619395",
     "status": "completed"
    },
    "tags": []
   },
   "outputs": [],
   "source": []
  },
  {
   "cell_type": "markdown",
   "id": "65225295",
   "metadata": {
    "papermill": {
     "duration": 0.005269,
     "end_time": "2023-06-18T18:50:21.635754",
     "exception": false,
     "start_time": "2023-06-18T18:50:21.630485",
     "status": "completed"
    },
    "tags": []
   },
   "source": [
    "## Scaling"
   ]
  },
  {
   "cell_type": "code",
   "execution_count": 6,
   "id": "3df6e528",
   "metadata": {
    "execution": {
     "iopub.execute_input": "2023-06-18T18:50:21.648415Z",
     "iopub.status.busy": "2023-06-18T18:50:21.648055Z",
     "iopub.status.idle": "2023-06-18T18:50:21.653259Z",
     "shell.execute_reply": "2023-06-18T18:50:21.652037Z"
    },
    "papermill": {
     "duration": 0.014018,
     "end_time": "2023-06-18T18:50:21.655146",
     "exception": false,
     "start_time": "2023-06-18T18:50:21.641128",
     "status": "completed"
    },
    "tags": []
   },
   "outputs": [],
   "source": [
    "from sklearn.preprocessing import StandardScaler\n",
    " \n",
    "scaler= StandardScaler()"
   ]
  },
  {
   "cell_type": "code",
   "execution_count": 7,
   "id": "bc400b08",
   "metadata": {
    "execution": {
     "iopub.execute_input": "2023-06-18T18:50:21.669222Z",
     "iopub.status.busy": "2023-06-18T18:50:21.668172Z",
     "iopub.status.idle": "2023-06-18T18:50:21.683293Z",
     "shell.execute_reply": "2023-06-18T18:50:21.682571Z"
    },
    "papermill": {
     "duration": 0.024772,
     "end_time": "2023-06-18T18:50:21.685736",
     "exception": false,
     "start_time": "2023-06-18T18:50:21.660964",
     "status": "completed"
    },
    "tags": []
   },
   "outputs": [],
   "source": [
    "train = df.drop('id', axis=1)\n",
    "test_raw = pd.read_csv(\"/kaggle/input/playground-series-s3e12/test.csv\")\n",
    "test = test_raw.drop('id', axis=1)"
   ]
  },
  {
   "cell_type": "code",
   "execution_count": 8,
   "id": "9f3402b3",
   "metadata": {
    "execution": {
     "iopub.execute_input": "2023-06-18T18:50:21.699153Z",
     "iopub.status.busy": "2023-06-18T18:50:21.698619Z",
     "iopub.status.idle": "2023-06-18T18:50:21.710137Z",
     "shell.execute_reply": "2023-06-18T18:50:21.708968Z"
    },
    "papermill": {
     "duration": 0.0206,
     "end_time": "2023-06-18T18:50:21.712260",
     "exception": false,
     "start_time": "2023-06-18T18:50:21.691660",
     "status": "completed"
    },
    "tags": []
   },
   "outputs": [
    {
     "data": {
      "text/html": [
       "<div>\n",
       "<style scoped>\n",
       "    .dataframe tbody tr th:only-of-type {\n",
       "        vertical-align: middle;\n",
       "    }\n",
       "\n",
       "    .dataframe tbody tr th {\n",
       "        vertical-align: top;\n",
       "    }\n",
       "\n",
       "    .dataframe thead th {\n",
       "        text-align: right;\n",
       "    }\n",
       "</style>\n",
       "<table border=\"1\" class=\"dataframe\">\n",
       "  <thead>\n",
       "    <tr style=\"text-align: right;\">\n",
       "      <th></th>\n",
       "      <th>gravity</th>\n",
       "      <th>ph</th>\n",
       "      <th>osmo</th>\n",
       "      <th>cond</th>\n",
       "      <th>urea</th>\n",
       "      <th>calc</th>\n",
       "    </tr>\n",
       "  </thead>\n",
       "  <tbody>\n",
       "    <tr>\n",
       "      <th>0</th>\n",
       "      <td>1.017</td>\n",
       "      <td>5.24</td>\n",
       "      <td>345</td>\n",
       "      <td>11.5</td>\n",
       "      <td>152</td>\n",
       "      <td>1.16</td>\n",
       "    </tr>\n",
       "    <tr>\n",
       "      <th>1</th>\n",
       "      <td>1.020</td>\n",
       "      <td>5.68</td>\n",
       "      <td>874</td>\n",
       "      <td>29.0</td>\n",
       "      <td>385</td>\n",
       "      <td>3.46</td>\n",
       "    </tr>\n",
       "    <tr>\n",
       "      <th>2</th>\n",
       "      <td>1.024</td>\n",
       "      <td>5.36</td>\n",
       "      <td>698</td>\n",
       "      <td>19.5</td>\n",
       "      <td>354</td>\n",
       "      <td>13.00</td>\n",
       "    </tr>\n",
       "    <tr>\n",
       "      <th>3</th>\n",
       "      <td>1.020</td>\n",
       "      <td>5.33</td>\n",
       "      <td>668</td>\n",
       "      <td>25.3</td>\n",
       "      <td>252</td>\n",
       "      <td>3.46</td>\n",
       "    </tr>\n",
       "    <tr>\n",
       "      <th>4</th>\n",
       "      <td>1.011</td>\n",
       "      <td>5.87</td>\n",
       "      <td>567</td>\n",
       "      <td>29.0</td>\n",
       "      <td>457</td>\n",
       "      <td>2.36</td>\n",
       "    </tr>\n",
       "  </tbody>\n",
       "</table>\n",
       "</div>"
      ],
      "text/plain": [
       "   gravity    ph  osmo  cond  urea   calc\n",
       "0    1.017  5.24   345  11.5   152   1.16\n",
       "1    1.020  5.68   874  29.0   385   3.46\n",
       "2    1.024  5.36   698  19.5   354  13.00\n",
       "3    1.020  5.33   668  25.3   252   3.46\n",
       "4    1.011  5.87   567  29.0   457   2.36"
      ]
     },
     "execution_count": 8,
     "metadata": {},
     "output_type": "execute_result"
    }
   ],
   "source": [
    "test.head()"
   ]
  },
  {
   "cell_type": "code",
   "execution_count": 9,
   "id": "ecf579ee",
   "metadata": {
    "execution": {
     "iopub.execute_input": "2023-06-18T18:50:21.725211Z",
     "iopub.status.busy": "2023-06-18T18:50:21.724899Z",
     "iopub.status.idle": "2023-06-18T18:50:21.744890Z",
     "shell.execute_reply": "2023-06-18T18:50:21.743413Z"
    },
    "papermill": {
     "duration": 0.029533,
     "end_time": "2023-06-18T18:50:21.747522",
     "exception": false,
     "start_time": "2023-06-18T18:50:21.717989",
     "status": "completed"
    },
    "tags": []
   },
   "outputs": [],
   "source": [
    "train_scaled = scaler.fit_transform(train.drop(['target'], axis=1)) \n",
    "test_scaled = scaler.transform(test) \n",
    "\n",
    "train_scaled = pd.DataFrame(train_scaled)\n",
    "train_final=train_scaled.join(train['target'], how='inner')\n",
    "train_final.columns = train.columns\n",
    "\n",
    "test_final=pd.DataFrame(test_scaled)\n",
    "test_final.columns = test.columns"
   ]
  },
  {
   "cell_type": "code",
   "execution_count": 10,
   "id": "1949fc85",
   "metadata": {
    "execution": {
     "iopub.execute_input": "2023-06-18T18:50:21.762918Z",
     "iopub.status.busy": "2023-06-18T18:50:21.762113Z",
     "iopub.status.idle": "2023-06-18T18:50:21.773367Z",
     "shell.execute_reply": "2023-06-18T18:50:21.772446Z"
    },
    "papermill": {
     "duration": 0.022217,
     "end_time": "2023-06-18T18:50:21.776151",
     "exception": false,
     "start_time": "2023-06-18T18:50:21.753934",
     "status": "completed"
    },
    "tags": []
   },
   "outputs": [
    {
     "data": {
      "text/html": [
       "<div>\n",
       "<style scoped>\n",
       "    .dataframe tbody tr th:only-of-type {\n",
       "        vertical-align: middle;\n",
       "    }\n",
       "\n",
       "    .dataframe tbody tr th {\n",
       "        vertical-align: top;\n",
       "    }\n",
       "\n",
       "    .dataframe thead th {\n",
       "        text-align: right;\n",
       "    }\n",
       "</style>\n",
       "<table border=\"1\" class=\"dataframe\">\n",
       "  <thead>\n",
       "    <tr style=\"text-align: right;\">\n",
       "      <th></th>\n",
       "      <th>gravity</th>\n",
       "      <th>ph</th>\n",
       "      <th>osmo</th>\n",
       "      <th>cond</th>\n",
       "      <th>urea</th>\n",
       "      <th>calc</th>\n",
       "    </tr>\n",
       "  </thead>\n",
       "  <tbody>\n",
       "    <tr>\n",
       "      <th>0</th>\n",
       "      <td>-0.134053</td>\n",
       "      <td>-1.115319</td>\n",
       "      <td>-1.307829</td>\n",
       "      <td>-1.324056</td>\n",
       "      <td>-0.929406</td>\n",
       "      <td>-0.919373</td>\n",
       "    </tr>\n",
       "    <tr>\n",
       "      <th>1</th>\n",
       "      <td>0.315931</td>\n",
       "      <td>-0.429409</td>\n",
       "      <td>0.949065</td>\n",
       "      <td>1.007515</td>\n",
       "      <td>0.780342</td>\n",
       "      <td>-0.203699</td>\n",
       "    </tr>\n",
       "    <tr>\n",
       "      <th>2</th>\n",
       "      <td>0.915909</td>\n",
       "      <td>-0.928252</td>\n",
       "      <td>0.198189</td>\n",
       "      <td>-0.258195</td>\n",
       "      <td>0.552865</td>\n",
       "      <td>2.764794</td>\n",
       "    </tr>\n",
       "    <tr>\n",
       "      <th>3</th>\n",
       "      <td>0.315931</td>\n",
       "      <td>-0.975019</td>\n",
       "      <td>0.070199</td>\n",
       "      <td>0.514555</td>\n",
       "      <td>-0.195608</td>\n",
       "      <td>-0.203699</td>\n",
       "    </tr>\n",
       "    <tr>\n",
       "      <th>4</th>\n",
       "      <td>-1.034021</td>\n",
       "      <td>-0.133221</td>\n",
       "      <td>-0.360701</td>\n",
       "      <td>1.007515</td>\n",
       "      <td>1.308677</td>\n",
       "      <td>-0.545978</td>\n",
       "    </tr>\n",
       "  </tbody>\n",
       "</table>\n",
       "</div>"
      ],
      "text/plain": [
       "    gravity        ph      osmo      cond      urea      calc\n",
       "0 -0.134053 -1.115319 -1.307829 -1.324056 -0.929406 -0.919373\n",
       "1  0.315931 -0.429409  0.949065  1.007515  0.780342 -0.203699\n",
       "2  0.915909 -0.928252  0.198189 -0.258195  0.552865  2.764794\n",
       "3  0.315931 -0.975019  0.070199  0.514555 -0.195608 -0.203699\n",
       "4 -1.034021 -0.133221 -0.360701  1.007515  1.308677 -0.545978"
      ]
     },
     "execution_count": 10,
     "metadata": {},
     "output_type": "execute_result"
    }
   ],
   "source": [
    "test_final.head()"
   ]
  },
  {
   "cell_type": "code",
   "execution_count": null,
   "id": "c8e57915",
   "metadata": {
    "papermill": {
     "duration": 0.006037,
     "end_time": "2023-06-18T18:50:21.788735",
     "exception": false,
     "start_time": "2023-06-18T18:50:21.782698",
     "status": "completed"
    },
    "tags": []
   },
   "outputs": [],
   "source": []
  },
  {
   "cell_type": "markdown",
   "id": "f93f4186",
   "metadata": {
    "papermill": {
     "duration": 0.005671,
     "end_time": "2023-06-18T18:50:21.800623",
     "exception": false,
     "start_time": "2023-06-18T18:50:21.794952",
     "status": "completed"
    },
    "tags": []
   },
   "source": [
    "## Preparing model"
   ]
  },
  {
   "cell_type": "code",
   "execution_count": 11,
   "id": "9c102ee0",
   "metadata": {
    "execution": {
     "iopub.execute_input": "2023-06-18T18:50:21.814410Z",
     "iopub.status.busy": "2023-06-18T18:50:21.814033Z",
     "iopub.status.idle": "2023-06-18T18:50:21.824001Z",
     "shell.execute_reply": "2023-06-18T18:50:21.822925Z"
    },
    "papermill": {
     "duration": 0.020126,
     "end_time": "2023-06-18T18:50:21.826716",
     "exception": false,
     "start_time": "2023-06-18T18:50:21.806590",
     "status": "completed"
    },
    "tags": []
   },
   "outputs": [],
   "source": [
    "from sklearn.model_selection import train_test_split\n",
    "\n",
    "# Extract feature and target arrays\n",
    "X, y = train_final.drop(columns=['target'], axis=1), train_final[['target']]\n",
    "X_train, X_test, y_train, y_test = train_test_split(X, y, random_state=1)"
   ]
  },
  {
   "cell_type": "code",
   "execution_count": 12,
   "id": "b6cf93bf",
   "metadata": {
    "execution": {
     "iopub.execute_input": "2023-06-18T18:50:21.840736Z",
     "iopub.status.busy": "2023-06-18T18:50:21.840334Z",
     "iopub.status.idle": "2023-06-18T18:50:21.921619Z",
     "shell.execute_reply": "2023-06-18T18:50:21.920997Z"
    },
    "papermill": {
     "duration": 0.090331,
     "end_time": "2023-06-18T18:50:21.923311",
     "exception": false,
     "start_time": "2023-06-18T18:50:21.832980",
     "status": "completed"
    },
    "tags": []
   },
   "outputs": [
    {
     "data": {
      "text/html": [
       "<style>#sk-container-id-1 {color: black;background-color: white;}#sk-container-id-1 pre{padding: 0;}#sk-container-id-1 div.sk-toggleable {background-color: white;}#sk-container-id-1 label.sk-toggleable__label {cursor: pointer;display: block;width: 100%;margin-bottom: 0;padding: 0.3em;box-sizing: border-box;text-align: center;}#sk-container-id-1 label.sk-toggleable__label-arrow:before {content: \"▸\";float: left;margin-right: 0.25em;color: #696969;}#sk-container-id-1 label.sk-toggleable__label-arrow:hover:before {color: black;}#sk-container-id-1 div.sk-estimator:hover label.sk-toggleable__label-arrow:before {color: black;}#sk-container-id-1 div.sk-toggleable__content {max-height: 0;max-width: 0;overflow: hidden;text-align: left;background-color: #f0f8ff;}#sk-container-id-1 div.sk-toggleable__content pre {margin: 0.2em;color: black;border-radius: 0.25em;background-color: #f0f8ff;}#sk-container-id-1 input.sk-toggleable__control:checked~div.sk-toggleable__content {max-height: 200px;max-width: 100%;overflow: auto;}#sk-container-id-1 input.sk-toggleable__control:checked~label.sk-toggleable__label-arrow:before {content: \"▾\";}#sk-container-id-1 div.sk-estimator input.sk-toggleable__control:checked~label.sk-toggleable__label {background-color: #d4ebff;}#sk-container-id-1 div.sk-label input.sk-toggleable__control:checked~label.sk-toggleable__label {background-color: #d4ebff;}#sk-container-id-1 input.sk-hidden--visually {border: 0;clip: rect(1px 1px 1px 1px);clip: rect(1px, 1px, 1px, 1px);height: 1px;margin: -1px;overflow: hidden;padding: 0;position: absolute;width: 1px;}#sk-container-id-1 div.sk-estimator {font-family: monospace;background-color: #f0f8ff;border: 1px dotted black;border-radius: 0.25em;box-sizing: border-box;margin-bottom: 0.5em;}#sk-container-id-1 div.sk-estimator:hover {background-color: #d4ebff;}#sk-container-id-1 div.sk-parallel-item::after {content: \"\";width: 100%;border-bottom: 1px solid gray;flex-grow: 1;}#sk-container-id-1 div.sk-label:hover label.sk-toggleable__label {background-color: #d4ebff;}#sk-container-id-1 div.sk-serial::before {content: \"\";position: absolute;border-left: 1px solid gray;box-sizing: border-box;top: 0;bottom: 0;left: 50%;z-index: 0;}#sk-container-id-1 div.sk-serial {display: flex;flex-direction: column;align-items: center;background-color: white;padding-right: 0.2em;padding-left: 0.2em;position: relative;}#sk-container-id-1 div.sk-item {position: relative;z-index: 1;}#sk-container-id-1 div.sk-parallel {display: flex;align-items: stretch;justify-content: center;background-color: white;position: relative;}#sk-container-id-1 div.sk-item::before, #sk-container-id-1 div.sk-parallel-item::before {content: \"\";position: absolute;border-left: 1px solid gray;box-sizing: border-box;top: 0;bottom: 0;left: 50%;z-index: -1;}#sk-container-id-1 div.sk-parallel-item {display: flex;flex-direction: column;z-index: 1;position: relative;background-color: white;}#sk-container-id-1 div.sk-parallel-item:first-child::after {align-self: flex-end;width: 50%;}#sk-container-id-1 div.sk-parallel-item:last-child::after {align-self: flex-start;width: 50%;}#sk-container-id-1 div.sk-parallel-item:only-child::after {width: 0;}#sk-container-id-1 div.sk-dashed-wrapped {border: 1px dashed gray;margin: 0 0.4em 0.5em 0.4em;box-sizing: border-box;padding-bottom: 0.4em;background-color: white;}#sk-container-id-1 div.sk-label label {font-family: monospace;font-weight: bold;display: inline-block;line-height: 1.2em;}#sk-container-id-1 div.sk-label-container {text-align: center;}#sk-container-id-1 div.sk-container {/* jupyter's `normalize.less` sets `[hidden] { display: none; }` but bootstrap.min.css set `[hidden] { display: none !important; }` so we also need the `!important` here to be able to override the default hidden behavior on the sphinx rendered scikit-learn.org. See: https://github.com/scikit-learn/scikit-learn/issues/21755 */display: inline-block !important;position: relative;}#sk-container-id-1 div.sk-text-repr-fallback {display: none;}</style><div id=\"sk-container-id-1\" class=\"sk-top-container\"><div class=\"sk-text-repr-fallback\"><pre>XGBClassifier(base_score=None, booster=None, callbacks=None,\n",
       "              colsample_bylevel=None, colsample_bynode=None,\n",
       "              colsample_bytree=None, early_stopping_rounds=None,\n",
       "              enable_categorical=False, eval_metric=None, feature_types=None,\n",
       "              gamma=None, gpu_id=None, grow_policy=None, importance_type=None,\n",
       "              interaction_constraints=None, learning_rate=None, max_bin=None,\n",
       "              max_cat_threshold=None, max_cat_to_onehot=None,\n",
       "              max_delta_step=None, max_depth=None, max_leaves=None,\n",
       "              min_child_weight=None, missing=nan, monotone_constraints=None,\n",
       "              n_estimators=100, n_jobs=None, num_parallel_tree=None,\n",
       "              predictor=None, random_state=None, ...)</pre><b>In a Jupyter environment, please rerun this cell to show the HTML representation or trust the notebook. <br />On GitHub, the HTML representation is unable to render, please try loading this page with nbviewer.org.</b></div><div class=\"sk-container\" hidden><div class=\"sk-item\"><div class=\"sk-estimator sk-toggleable\"><input class=\"sk-toggleable__control sk-hidden--visually\" id=\"sk-estimator-id-1\" type=\"checkbox\" checked><label for=\"sk-estimator-id-1\" class=\"sk-toggleable__label sk-toggleable__label-arrow\">XGBClassifier</label><div class=\"sk-toggleable__content\"><pre>XGBClassifier(base_score=None, booster=None, callbacks=None,\n",
       "              colsample_bylevel=None, colsample_bynode=None,\n",
       "              colsample_bytree=None, early_stopping_rounds=None,\n",
       "              enable_categorical=False, eval_metric=None, feature_types=None,\n",
       "              gamma=None, gpu_id=None, grow_policy=None, importance_type=None,\n",
       "              interaction_constraints=None, learning_rate=None, max_bin=None,\n",
       "              max_cat_threshold=None, max_cat_to_onehot=None,\n",
       "              max_delta_step=None, max_depth=None, max_leaves=None,\n",
       "              min_child_weight=None, missing=nan, monotone_constraints=None,\n",
       "              n_estimators=100, n_jobs=None, num_parallel_tree=None,\n",
       "              predictor=None, random_state=None, ...)</pre></div></div></div></div></div>"
      ],
      "text/plain": [
       "XGBClassifier(base_score=None, booster=None, callbacks=None,\n",
       "              colsample_bylevel=None, colsample_bynode=None,\n",
       "              colsample_bytree=None, early_stopping_rounds=None,\n",
       "              enable_categorical=False, eval_metric=None, feature_types=None,\n",
       "              gamma=None, gpu_id=None, grow_policy=None, importance_type=None,\n",
       "              interaction_constraints=None, learning_rate=None, max_bin=None,\n",
       "              max_cat_threshold=None, max_cat_to_onehot=None,\n",
       "              max_delta_step=None, max_depth=None, max_leaves=None,\n",
       "              min_child_weight=None, missing=nan, monotone_constraints=None,\n",
       "              n_estimators=100, n_jobs=None, num_parallel_tree=None,\n",
       "              predictor=None, random_state=None, ...)"
      ]
     },
     "execution_count": 12,
     "metadata": {},
     "output_type": "execute_result"
    }
   ],
   "source": [
    "import xgboost as xgb\n",
    "from sklearn.metrics import accuracy_score\n",
    "\n",
    "# Init classifier\n",
    "xgb_cl = xgb.XGBClassifier()\n",
    "\n",
    "# Fit\n",
    "xgb_cl.fit(X_train, y_train)"
   ]
  },
  {
   "cell_type": "code",
   "execution_count": 13,
   "id": "2aa3be32",
   "metadata": {
    "execution": {
     "iopub.execute_input": "2023-06-18T18:50:21.937569Z",
     "iopub.status.busy": "2023-06-18T18:50:21.936785Z",
     "iopub.status.idle": "2023-06-18T18:50:21.953321Z",
     "shell.execute_reply": "2023-06-18T18:50:21.951924Z"
    },
    "papermill": {
     "duration": 0.026378,
     "end_time": "2023-06-18T18:50:21.955861",
     "exception": false,
     "start_time": "2023-06-18T18:50:21.929483",
     "status": "completed"
    },
    "tags": []
   },
   "outputs": [
    {
     "data": {
      "text/plain": [
       "0.7596153846153846"
      ]
     },
     "execution_count": 13,
     "metadata": {},
     "output_type": "execute_result"
    }
   ],
   "source": [
    "# Predict\n",
    "preds = xgb_cl.predict(X_test)\n",
    "\n",
    "# Score\n",
    "accuracy_score(y_test, preds)"
   ]
  },
  {
   "cell_type": "code",
   "execution_count": 14,
   "id": "a518769f",
   "metadata": {
    "execution": {
     "iopub.execute_input": "2023-06-18T18:50:21.970165Z",
     "iopub.status.busy": "2023-06-18T18:50:21.969817Z",
     "iopub.status.idle": "2023-06-18T18:50:21.979920Z",
     "shell.execute_reply": "2023-06-18T18:50:21.978879Z"
    },
    "papermill": {
     "duration": 0.019625,
     "end_time": "2023-06-18T18:50:21.981919",
     "exception": false,
     "start_time": "2023-06-18T18:50:21.962294",
     "status": "completed"
    },
    "tags": []
   },
   "outputs": [],
   "source": [
    "preds=pd.DataFrame(preds)\n",
    "ids=pd.DataFrame(test_raw['id'])\n",
    "submission = ids.join(preds, how='inner')\n",
    "submission.columns=['id', 'target']"
   ]
  },
  {
   "cell_type": "code",
   "execution_count": 15,
   "id": "fe910028",
   "metadata": {
    "execution": {
     "iopub.execute_input": "2023-06-18T18:50:21.996695Z",
     "iopub.status.busy": "2023-06-18T18:50:21.996276Z",
     "iopub.status.idle": "2023-06-18T18:50:22.005470Z",
     "shell.execute_reply": "2023-06-18T18:50:22.004222Z"
    },
    "papermill": {
     "duration": 0.0188,
     "end_time": "2023-06-18T18:50:22.007286",
     "exception": false,
     "start_time": "2023-06-18T18:50:21.988486",
     "status": "completed"
    },
    "tags": []
   },
   "outputs": [
    {
     "data": {
      "text/html": [
       "<div>\n",
       "<style scoped>\n",
       "    .dataframe tbody tr th:only-of-type {\n",
       "        vertical-align: middle;\n",
       "    }\n",
       "\n",
       "    .dataframe tbody tr th {\n",
       "        vertical-align: top;\n",
       "    }\n",
       "\n",
       "    .dataframe thead th {\n",
       "        text-align: right;\n",
       "    }\n",
       "</style>\n",
       "<table border=\"1\" class=\"dataframe\">\n",
       "  <thead>\n",
       "    <tr style=\"text-align: right;\">\n",
       "      <th></th>\n",
       "      <th>id</th>\n",
       "      <th>target</th>\n",
       "    </tr>\n",
       "  </thead>\n",
       "  <tbody>\n",
       "    <tr>\n",
       "      <th>0</th>\n",
       "      <td>414</td>\n",
       "      <td>0</td>\n",
       "    </tr>\n",
       "    <tr>\n",
       "      <th>1</th>\n",
       "      <td>415</td>\n",
       "      <td>0</td>\n",
       "    </tr>\n",
       "    <tr>\n",
       "      <th>2</th>\n",
       "      <td>416</td>\n",
       "      <td>1</td>\n",
       "    </tr>\n",
       "    <tr>\n",
       "      <th>3</th>\n",
       "      <td>417</td>\n",
       "      <td>0</td>\n",
       "    </tr>\n",
       "    <tr>\n",
       "      <th>4</th>\n",
       "      <td>418</td>\n",
       "      <td>1</td>\n",
       "    </tr>\n",
       "  </tbody>\n",
       "</table>\n",
       "</div>"
      ],
      "text/plain": [
       "    id  target\n",
       "0  414       0\n",
       "1  415       0\n",
       "2  416       1\n",
       "3  417       0\n",
       "4  418       1"
      ]
     },
     "execution_count": 15,
     "metadata": {},
     "output_type": "execute_result"
    }
   ],
   "source": [
    "submission.head()"
   ]
  },
  {
   "cell_type": "code",
   "execution_count": 16,
   "id": "be6de4cd",
   "metadata": {
    "execution": {
     "iopub.execute_input": "2023-06-18T18:50:22.022530Z",
     "iopub.status.busy": "2023-06-18T18:50:22.022121Z",
     "iopub.status.idle": "2023-06-18T18:50:22.032320Z",
     "shell.execute_reply": "2023-06-18T18:50:22.031227Z"
    },
    "papermill": {
     "duration": 0.020603,
     "end_time": "2023-06-18T18:50:22.034859",
     "exception": false,
     "start_time": "2023-06-18T18:50:22.014256",
     "status": "completed"
    },
    "tags": []
   },
   "outputs": [],
   "source": [
    "submission.to_csv('submission.csv',header=True,index=False)"
   ]
  },
  {
   "cell_type": "code",
   "execution_count": null,
   "id": "88428740",
   "metadata": {
    "papermill": {
     "duration": 0.006425,
     "end_time": "2023-06-18T18:50:22.048003",
     "exception": false,
     "start_time": "2023-06-18T18:50:22.041578",
     "status": "completed"
    },
    "tags": []
   },
   "outputs": [],
   "source": []
  }
 ],
 "metadata": {
  "kernelspec": {
   "display_name": "Python 3",
   "language": "python",
   "name": "python3"
  },
  "language_info": {
   "codemirror_mode": {
    "name": "ipython",
    "version": 3
   },
   "file_extension": ".py",
   "mimetype": "text/x-python",
   "name": "python",
   "nbconvert_exporter": "python",
   "pygments_lexer": "ipython3",
   "version": "3.10.10"
  },
  "papermill": {
   "default_parameters": {},
   "duration": 13.313594,
   "end_time": "2023-06-18T18:50:23.077778",
   "environment_variables": {},
   "exception": null,
   "input_path": "__notebook__.ipynb",
   "output_path": "__notebook__.ipynb",
   "parameters": {},
   "start_time": "2023-06-18T18:50:09.764184",
   "version": "2.4.0"
  }
 },
 "nbformat": 4,
 "nbformat_minor": 5
}
